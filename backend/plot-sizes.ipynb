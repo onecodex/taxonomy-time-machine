{
 "cells": [
  {
   "cell_type": "code",
   "execution_count": null,
   "id": "a12d2bf3-6b40-4feb-8dd3-9abfa3289856",
   "metadata": {},
   "outputs": [],
   "source": [
    "# Plot Sizes"
   ]
  },
  {
   "cell_type": "code",
   "execution_count": 1,
   "id": "5de11e70-fe4d-4e1a-91cc-d32f23e041e4",
   "metadata": {},
   "outputs": [],
   "source": [
    "from taxonomy_time_machine.models import Taxonomy\n",
    "\n",
    "from glob import glob\n",
    "import os\n",
    "import polars as pl\n",
    "import altair as alt"
   ]
  },
  {
   "cell_type": "code",
   "execution_count": 10,
   "id": "399c5691-10d7-44b6-9cfa-e1ed38e4d494",
   "metadata": {},
   "outputs": [],
   "source": [
    "DEFAULT_PALETTES = {\n",
    "    \"ocx\": [\n",
    "        \"#16347B\",\n",
    "        \"#0072C7\",\n",
    "        \"#01ACEC\",\n",
    "        \"#97E9FC\",\n",
    "        \"#0A605E\",\n",
    "        \"#1DA893\",\n",
    "        \"#3DD8BE\",\n",
    "        \"#ABEFE2\",\n",
    "        \"#37257D\",\n",
    "        \"#9C78E0\",\n",
    "        \"#CBC0F9\",\n",
    "        \"#E3DDFF\",\n",
    "        \"#BC5B00\",\n",
    "        \"#EB984A\",\n",
    "        \"#FCE34D\",\n",
    "        \"#FEF2A3\",\n",
    "        \"#950303\",\n",
    "        \"#DD3A3A\",\n",
    "        \"#FF8D8B\",\n",
    "        \"#FFD5CB\",\n",
    "        \"#771354\",\n",
    "        \"#C13A8B\",\n",
    "        \"#F28BBF\",\n",
    "        \"#F9D9E7\",\n",
    "    ],\n",
    "    \"ocx_categorical\": [\n",
    "        \"#0072C7\",\n",
    "        \"#1DA893\",\n",
    "        \"#9C78E0\",\n",
    "        \"#EB984A\",\n",
    "        \"#DD3A3A\",\n",
    "        \"#C13A8B\",\n",
    "        \"#01ACEC\",\n",
    "        \"#3DD8BE\",\n",
    "        \"#CBC0F9\",\n",
    "        \"#FCE34D\",\n",
    "        \"#FF8D8B\",\n",
    "        \"#F28BBF\",\n",
    "        \"#16347B\",\n",
    "        \"#0A605E\",\n",
    "        \"#37257D\",\n",
    "        \"#BC5B00\",\n",
    "        \"#950303\",\n",
    "        \"#771354\",\n",
    "    ],\n",
    "    \"tableau10\": [\n",
    "        \"#4e79a7\",\n",
    "        \"#f28e2b\",\n",
    "        \"#e15759\",\n",
    "        \"#76b7b2\",\n",
    "        \"#59a14f\",\n",
    "        \"#edc948\",\n",
    "        \"#b07aa1\",\n",
    "        \"#ff9da7\",\n",
    "        \"#9c755f\",\n",
    "        \"#bab0ac\",\n",
    "    ],\n",
    "}\n",
    "\n",
    "OCX_DARK_GREEN = \"#128887\"\n"
   ]
  },
  {
   "cell_type": "code",
   "execution_count": 14,
   "id": "11fb2703-6023-4fa5-8a19-c1f80bedffbc",
   "metadata": {},
   "outputs": [],
   "source": [
    "\n",
    "def onecodex_theme():\n",
    "    onecodex_palette = [\"#ffffcc\", \"#c7e9b4\", \"#7fcdbb\", \"#41b6c4\", \"#2c7fb8\", \"#264153\"]\n",
    "\n",
    "    font_family = \"Fira Sans, Helvetica\"\n",
    "\n",
    "    return {\n",
    "        \"config\": {\n",
    "            \"range\": {\n",
    "                \"heatmap\": list(reversed(onecodex_palette)),\n",
    "                \"category\": DEFAULT_PALETTES[\"ocx_categorical\"],\n",
    "                \"ramp\": list(reversed(onecodex_palette)),\n",
    "            },\n",
    "            \"area\": {\"fill\": OCX_DARK_GREEN},\n",
    "            \"bar\": {\"fill\": OCX_DARK_GREEN},\n",
    "            \"mark\": {\"color\": OCX_DARK_GREEN},\n",
    "            \"axis\": {\n",
    "                \"labelFont\": font_family,\n",
    "                \"labelFontSize\": 12,\n",
    "                \"titleFont\": font_family,\n",
    "                \"titleFontSize\": 12,\n",
    "                \"grid\": True,\n",
    "            },\n",
    "            \"legend\": {\n",
    "                \"labelFont\": font_family,\n",
    "                \"labelFontSize\": 12,\n",
    "                \"titleFont\": font_family,\n",
    "                \"titleFontSize\": 12,\n",
    "            },\n",
    "            \"title\": {\"font\": font_family},\n",
    "            \"view\": {\"width\": 400, \"height\": 400, \"strokeWidth\": 0},\n",
    "            \"background\": \"white\",\n",
    "        }\n",
    "    }\n"
   ]
  },
  {
   "cell_type": "code",
   "execution_count": 15,
   "id": "8ead2ce5-02c0-42d2-b82f-2a50b7427ce1",
   "metadata": {},
   "outputs": [
    {
     "data": {
      "text/plain": [
       "ThemeRegistry.enable('onecodex')"
      ]
     },
     "execution_count": 15,
     "metadata": {},
     "output_type": "execute_result"
    }
   ],
   "source": [
    "alt.themes.register(\"onecodex\", onecodex_theme)\n",
    "alt.themes.enable(\"onecodex\")\n"
   ]
  },
  {
   "cell_type": "code",
   "execution_count": 2,
   "id": "f9cce290-4d2d-4731-9084-e745f26af971",
   "metadata": {},
   "outputs": [
    {
     "name": "stdout",
     "output_type": "stream",
     "text": [
      "archive-20-deduplicated.db\n",
      "archive-20-full.db\n",
      "archive-50-full.db\n",
      "archive-1-deduplicated.db\n",
      "archive-5-full.db\n",
      "archive-10-full.db\n",
      "archive-1-full.db\n",
      "archive-5-deduplicated.db\n",
      "archive-10-deduplicated.db\n",
      "archive-2-full.db\n",
      "archive-2-deduplicated.db\n",
      "archive-50-deduplicated.db\n"
     ]
    }
   ],
   "source": [
    "tab = []\n",
    "for db_path in glob(\"archive-*.db\"):\n",
    "    print(db_path)\n",
    "    deduplicated = \"deduplicated\" in db_path\n",
    "    n_archives = int(db_path.split(\"-\")[1].split(\".\")[0])\n",
    "    ttm = Taxonomy(db_path)\n",
    "\n",
    "    res = dict(\n",
    "        list(\n",
    "            ttm.cursor.execute(\n",
    "                \"select count(distinct tax_id) as unique_tax_ids, count(*) as n_rows from taxonomy;\"\n",
    "            )\n",
    "        )[0]\n",
    "    )\n",
    "\n",
    "    tab.append(\n",
    "        {\n",
    "            **res,\n",
    "            \"db_size\": os.stat(db_path).st_size,  # bytes\n",
    "            \"n_archives\": n_archives,\n",
    "            \"is_deduplicated\": \"Deduplicated\" if deduplicated else \"Naive\",\n",
    "            \"path\": db_path,\n",
    "        }\n",
    "    )"
   ]
  },
  {
   "cell_type": "code",
   "execution_count": 41,
   "id": "e24c0acd-bb3f-48f2-bf90-e42e64e4e36e",
   "metadata": {},
   "outputs": [
    {
     "name": "stderr",
     "output_type": "stream",
     "text": [
      "/Users/audy/Code/science-vessel/.venv/lib/python3.12/site-packages/altair/utils/core.py:384: FutureWarning: the convert_dtype parameter is deprecated and will be removed in a future version.  Do ``ser.astype(object).apply()`` instead if you want ``convert_dtype=False``.\n",
      "  col = df[col_name].apply(to_list_if_array, convert_dtype=False)\n",
      "/Users/audy/Code/science-vessel/.venv/lib/python3.12/site-packages/altair/utils/core.py:384: FutureWarning: the convert_dtype parameter is deprecated and will be removed in a future version.  Do ``ser.astype(object).apply()`` instead if you want ``convert_dtype=False``.\n",
      "  col = df[col_name].apply(to_list_if_array, convert_dtype=False)\n"
     ]
    },
    {
     "data": {
      "text/html": [
       "\n",
       "<div id=\"altair-viz-9929880c6bc64b15a455f5014c85f128\"></div>\n",
       "<script type=\"text/javascript\">\n",
       "  var VEGA_DEBUG = (typeof VEGA_DEBUG == \"undefined\") ? {} : VEGA_DEBUG;\n",
       "  (function(spec, embedOpt){\n",
       "    let outputDiv = document.currentScript.previousElementSibling;\n",
       "    if (outputDiv.id !== \"altair-viz-9929880c6bc64b15a455f5014c85f128\") {\n",
       "      outputDiv = document.getElementById(\"altair-viz-9929880c6bc64b15a455f5014c85f128\");\n",
       "    }\n",
       "    const paths = {\n",
       "      \"vega\": \"https://cdn.jsdelivr.net/npm//vega@5?noext\",\n",
       "      \"vega-lib\": \"https://cdn.jsdelivr.net/npm//vega-lib?noext\",\n",
       "      \"vega-lite\": \"https://cdn.jsdelivr.net/npm//vega-lite@4.17.0?noext\",\n",
       "      \"vega-embed\": \"https://cdn.jsdelivr.net/npm//vega-embed@6?noext\",\n",
       "    };\n",
       "\n",
       "    function maybeLoadScript(lib, version) {\n",
       "      var key = `${lib.replace(\"-\", \"\")}_version`;\n",
       "      return (VEGA_DEBUG[key] == version) ?\n",
       "        Promise.resolve(paths[lib]) :\n",
       "        new Promise(function(resolve, reject) {\n",
       "          var s = document.createElement('script');\n",
       "          document.getElementsByTagName(\"head\")[0].appendChild(s);\n",
       "          s.async = true;\n",
       "          s.onload = () => {\n",
       "            VEGA_DEBUG[key] = version;\n",
       "            return resolve(paths[lib]);\n",
       "          };\n",
       "          s.onerror = () => reject(`Error loading script: ${paths[lib]}`);\n",
       "          s.src = paths[lib];\n",
       "        });\n",
       "    }\n",
       "\n",
       "    function showError(err) {\n",
       "      outputDiv.innerHTML = `<div class=\"error\" style=\"color:red;\">${err}</div>`;\n",
       "      throw err;\n",
       "    }\n",
       "\n",
       "    function displayChart(vegaEmbed) {\n",
       "      vegaEmbed(outputDiv, spec, embedOpt)\n",
       "        .catch(err => showError(`Javascript Error: ${err.message}<br>This usually means there's a typo in your chart specification. See the javascript console for the full traceback.`));\n",
       "    }\n",
       "\n",
       "    if(typeof define === \"function\" && define.amd) {\n",
       "      requirejs.config({paths});\n",
       "      require([\"vega-embed\"], displayChart, err => showError(`Error loading script: ${err.message}`));\n",
       "    } else {\n",
       "      maybeLoadScript(\"vega\", \"5\")\n",
       "        .then(() => maybeLoadScript(\"vega-lite\", \"4.17.0\"))\n",
       "        .then(() => maybeLoadScript(\"vega-embed\", \"6\"))\n",
       "        .catch(showError)\n",
       "        .then(() => displayChart(vegaEmbed));\n",
       "    }\n",
       "  })({\"config\": {\"range\": {\"heatmap\": [\"#264153\", \"#2c7fb8\", \"#41b6c4\", \"#7fcdbb\", \"#c7e9b4\", \"#ffffcc\"], \"category\": [\"#0072C7\", \"#1DA893\", \"#9C78E0\", \"#EB984A\", \"#DD3A3A\", \"#C13A8B\", \"#01ACEC\", \"#3DD8BE\", \"#CBC0F9\", \"#FCE34D\", \"#FF8D8B\", \"#F28BBF\", \"#16347B\", \"#0A605E\", \"#37257D\", \"#BC5B00\", \"#950303\", \"#771354\"], \"ramp\": [\"#264153\", \"#2c7fb8\", \"#41b6c4\", \"#7fcdbb\", \"#c7e9b4\", \"#ffffcc\"]}, \"area\": {\"fill\": \"#128887\"}, \"bar\": {\"fill\": \"#128887\"}, \"mark\": {\"color\": \"#128887\"}, \"axis\": {\"labelFont\": \"Fira Sans, Helvetica\", \"labelFontSize\": 12, \"titleFont\": \"Fira Sans, Helvetica\", \"titleFontSize\": 12, \"grid\": true}, \"legend\": {\"labelFont\": \"Fira Sans, Helvetica\", \"labelFontSize\": 12, \"titleFont\": \"Fira Sans, Helvetica\", \"titleFontSize\": 12}, \"title\": {\"font\": \"Fira Sans, Helvetica\"}, \"view\": {\"width\": 400, \"height\": 400, \"strokeWidth\": 0}, \"background\": \"white\"}, \"data\": {\"name\": \"data-60570a4a5a5ccf98ebd994718156198a\"}, \"mark\": {\"type\": \"line\", \"point\": true}, \"encoding\": {\"color\": {\"field\": \"is_deduplicated\", \"title\": \"Mode\", \"type\": \"nominal\"}, \"x\": {\"field\": \"unique_tax_ids\", \"title\": \"Total Taxa\", \"type\": \"quantitative\"}, \"y\": {\"field\": \"db_size_GiB\", \"scale\": {\"type\": \"linear\"}, \"title\": \"DB Size (GiB)\", \"type\": \"quantitative\"}}, \"height\": 420, \"title\": \"Database Size vs. Implementation\", \"width\": 530, \"$schema\": \"https://vega.github.io/schema/vega-lite/v4.17.0.json\", \"datasets\": {\"data-60570a4a5a5ccf98ebd994718156198a\": [{\"unique_tax_ids\": 1443102, \"n_rows\": 1472524, \"db_size\": 442540032, \"n_archives\": 20, \"is_deduplicated\": \"Deduplicated\", \"path\": \"archive-20-deduplicated.db\", \"db_size_GiB\": 0.41214752197265625}, {\"unique_tax_ids\": 1443102, \"n_rows\": 25934118, \"db_size\": 7773052928, \"n_archives\": 20, \"is_deduplicated\": \"Naive\", \"path\": \"archive-20-full.db\", \"db_size_GiB\": 7.239219665527344}, {\"unique_tax_ids\": 2048464, \"n_rows\": 75806839, \"db_size\": 22918836224, \"n_archives\": 50, \"is_deduplicated\": \"Naive\", \"path\": \"archive-50-full.db\", \"db_size_GiB\": 21.344829559326172}, {\"unique_tax_ids\": 1184830, \"n_rows\": 1184830, \"db_size\": 355164160, \"n_archives\": 1, \"is_deduplicated\": \"Deduplicated\", \"path\": \"archive-1-deduplicated.db\", \"db_size_GiB\": 0.33077239990234375}, {\"unique_tax_ids\": 1227295, \"n_rows\": 6029249, \"db_size\": 1784279040, \"n_archives\": 5, \"is_deduplicated\": \"Naive\", \"path\": \"archive-5-full.db\", \"db_size_GiB\": 1.6617393493652344}, {\"unique_tax_ids\": 1281432, \"n_rows\": 12323609, \"db_size\": 3665477632, \"n_archives\": 10, \"is_deduplicated\": \"Naive\", \"path\": \"archive-10-full.db\", \"db_size_GiB\": 3.4137420654296875}, {\"unique_tax_ids\": 1184830, \"n_rows\": 1184830, \"db_size\": 355164160, \"n_archives\": 1, \"is_deduplicated\": \"Naive\", \"path\": \"archive-1-full.db\", \"db_size_GiB\": 0.33077239990234375}, {\"unique_tax_ids\": 1227295, \"n_rows\": 1231375, \"db_size\": 368410624, \"n_archives\": 5, \"is_deduplicated\": \"Deduplicated\", \"path\": \"archive-5-deduplicated.db\", \"db_size_GiB\": 0.343109130859375}, {\"unique_tax_ids\": 1281432, \"n_rows\": 1292683, \"db_size\": 387301376, \"n_archives\": 10, \"is_deduplicated\": \"Deduplicated\", \"path\": \"archive-10-deduplicated.db\", \"db_size_GiB\": 0.3607025146484375}, {\"unique_tax_ids\": 1195886, \"n_rows\": 2380716, \"db_size\": 706494464, \"n_archives\": 2, \"is_deduplicated\": \"Naive\", \"path\": \"archive-2-full.db\", \"db_size_GiB\": 0.6579742431640625}, {\"unique_tax_ids\": 1195886, \"n_rows\": 1196821, \"db_size\": 358649856, \"n_archives\": 2, \"is_deduplicated\": \"Deduplicated\", \"path\": \"archive-2-deduplicated.db\", \"db_size_GiB\": 0.3340187072753906}, {\"unique_tax_ids\": 2048464, \"n_rows\": 2141710, \"db_size\": 648900608, \"n_archives\": 50, \"is_deduplicated\": \"Deduplicated\", \"path\": \"archive-50-deduplicated.db\", \"db_size_GiB\": 0.6043357849121094}]}}, {\"mode\": \"vega-lite\"});\n",
       "</script>"
      ],
      "text/plain": [
       "alt.Chart(...)"
      ]
     },
     "execution_count": 41,
     "metadata": {},
     "output_type": "execute_result"
    }
   ],
   "source": [
    "alt.Chart(\n",
    "    pl.DataFrame(tab)\n",
    "    .with_columns((pl.col(\"db_size\") / (1024**3)).alias(\"db_size_GiB\"))\n",
    "    .to_pandas()\n",
    ").mark_line(point=True).encode(\n",
    "    x=alt.X(\"unique_tax_ids\", title=\"Total Taxa\"),\n",
    "    y=alt.Y(\"db_size_GiB\", scale=alt.Scale(type=\"linear\"), title=\"DB Size (GiB)\"),\n",
    "    color=alt.Color(\"is_deduplicated\", title=\"Mode\"),\n",
    ").properties(title=\"Database Size vs. Implementation\").properties(width=530, height=420)"
   ]
  },
  {
   "cell_type": "code",
   "execution_count": null,
   "id": "4fd6d389-09fe-4a8c-bedf-d48c151ddeaf",
   "metadata": {},
   "outputs": [],
   "source": []
  }
 ],
 "metadata": {
  "kernelspec": {
   "display_name": "Python 3 (ipykernel)",
   "language": "python",
   "name": "python3"
  },
  "language_info": {
   "codemirror_mode": {
    "name": "ipython",
    "version": 3
   },
   "file_extension": ".py",
   "mimetype": "text/x-python",
   "name": "python",
   "nbconvert_exporter": "python",
   "pygments_lexer": "ipython3",
   "version": "3.12.5"
  }
 },
 "nbformat": 4,
 "nbformat_minor": 5
}
