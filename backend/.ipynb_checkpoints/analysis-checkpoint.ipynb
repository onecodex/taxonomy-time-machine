{
 "cells": [
  {
   "cell_type": "code",
   "execution_count": 11,
   "id": "8ab4e186-b9d0-4c13-bbd5-6fd3ea337520",
   "metadata": {},
   "outputs": [],
   "source": [
    "%load_ext autoreload\n",
    "%autoreload 2"
   ]
  },
  {
   "cell_type": "code",
   "execution_count": 2,
   "id": "bf7b107d-f88b-4543-9886-0f16c488a2ac",
   "metadata": {},
   "outputs": [],
   "source": [
    "# plot the number of events by ..."
   ]
  },
  {
   "cell_type": "code",
   "execution_count": 23,
   "id": "dac8d324-f93f-456d-acca-b1dce3ce2e48",
   "metadata": {},
   "outputs": [],
   "source": [
    "from models import Taxonomy\n",
    "import polars as pl\n",
    "import altair as alt\n",
    "from tqdm import tqdm"
   ]
  },
  {
   "cell_type": "code",
   "execution_count": 4,
   "id": "b3463ca5-b0ac-4279-b704-9540605c2554",
   "metadata": {},
   "outputs": [],
   "source": [
    "db = Taxonomy(\"events.db\")"
   ]
  },
  {
   "cell_type": "code",
   "execution_count": 16,
   "id": "0e336ede-52f3-4a5f-a29c-d1a91f95e116",
   "metadata": {},
   "outputs": [],
   "source": [
    "version_dates = [\n",
    "    dict(x)[\"version_date\"]\n",
    "    for x in db.cursor.execute(\"select distinct version_date from taxonomy\")\n",
    "]"
   ]
  },
  {
   "cell_type": "code",
   "execution_count": 17,
   "id": "6af9e944-8742-4fa5-ad76-06c2c3e517c3",
   "metadata": {},
   "outputs": [
    {
     "data": {
      "text/plain": [
       "122"
      ]
     },
     "execution_count": 17,
     "metadata": {},
     "output_type": "execute_result"
    }
   ],
   "source": [
    "len(version_dates)"
   ]
  },
  {
   "cell_type": "code",
   "execution_count": null,
   "id": "b41ecc68-0989-4b71-ad6e-1b0b6d9888ca",
   "metadata": {},
   "outputs": [
    {
     "name": "stderr",
     "output_type": "stream",
     "text": [
      "2it [00:04,  2.24s/it]"
     ]
    }
   ],
   "source": [
    "event_counts = []\n",
    "for n, version_date in tqdm(enumerate(version_dates)):\n",
    "    # maybe it would be faster to just do all of this in SQL ...\n",
    "    rows = list(\n",
    "        db.cursor.execute(\n",
    "            \"\"\"\n",
    "        select event_name, count(*) as count\n",
    "        from taxonomy\n",
    "        where version_date = version_date\n",
    "        group by event_name\n",
    "    \"\"\"\n",
    "        )\n",
    "    )\n",
    "    for row in rows:\n",
    "        event_counts.append({\"version_date\": version_date, **dict(row)})\n",
    "\n",
    "    if n > 3:\n",
    "        break\n",
    "event_counts = pl.DataFrame(event_counts)"
   ]
  },
  {
   "cell_type": "code",
   "execution_count": null,
   "id": "4ec17640-eaf9-4a04-904c-a71ee482a20b",
   "metadata": {},
   "outputs": [],
   "source": [
    "alt.Chart(event_counts.to_pandas()).mark_bar().encode(\n",
    "    x=\"version_date\", y=\"count\", color=\"event_name\"\n",
    ")"
   ]
  },
  {
   "cell_type": "code",
   "execution_count": null,
   "id": "e6f66f9f-77a2-48df-9b4e-d0152c4fc723",
   "metadata": {},
   "outputs": [],
   "source": []
  }
 ],
 "metadata": {
  "kernelspec": {
   "display_name": "Python 3 (ipykernel)",
   "language": "python",
   "name": "python3"
  },
  "language_info": {
   "codemirror_mode": {
    "name": "ipython",
    "version": 3
   },
   "file_extension": ".py",
   "mimetype": "text/x-python",
   "name": "python",
   "nbconvert_exporter": "python",
   "pygments_lexer": "ipython3",
   "version": "3.12.5"
  }
 },
 "nbformat": 4,
 "nbformat_minor": 5
}
