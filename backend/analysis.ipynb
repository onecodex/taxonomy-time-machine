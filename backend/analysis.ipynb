{
 "cells": [
  {
   "cell_type": "code",
   "execution_count": 11,
   "id": "8ab4e186-b9d0-4c13-bbd5-6fd3ea337520",
   "metadata": {},
   "outputs": [],
   "source": [
    "%load_ext autoreload\n",
    "%autoreload 2"
   ]
  },
  {
   "cell_type": "code",
   "execution_count": 2,
   "id": "bf7b107d-f88b-4543-9886-0f16c488a2ac",
   "metadata": {},
   "outputs": [],
   "source": [
    "# plot the number of events by ..."
   ]
  },
  {
   "cell_type": "code",
   "execution_count": 23,
   "id": "dac8d324-f93f-456d-acca-b1dce3ce2e48",
   "metadata": {},
   "outputs": [],
   "source": [
    "from models import Taxonomy\n",
    "import polars as pl\n",
    "import altair as alt\n",
    "from tqdm import tqdm"
   ]
  },
  {
   "cell_type": "code",
   "execution_count": 4,
   "id": "b3463ca5-b0ac-4279-b704-9540605c2554",
   "metadata": {},
   "outputs": [],
   "source": [
    "db = Taxonomy(\"events.db\")"
   ]
  },
  {
   "cell_type": "code",
   "execution_count": 16,
   "id": "0e336ede-52f3-4a5f-a29c-d1a91f95e116",
   "metadata": {},
   "outputs": [],
   "source": [
    "version_dates = [\n",
    "    dict(x)[\"version_date\"] for x in db.cursor.execute(\"select distinct version_date from taxonomy\")\n",
    "]"
   ]
  },
  {
   "cell_type": "code",
   "execution_count": 17,
   "id": "6af9e944-8742-4fa5-ad76-06c2c3e517c3",
   "metadata": {},
   "outputs": [
    {
     "data": {
      "text/plain": [
       "122"
      ]
     },
     "execution_count": 17,
     "metadata": {},
     "output_type": "execute_result"
    }
   ],
   "source": [
    "len(version_dates)"
   ]
  },
  {
   "cell_type": "code",
   "execution_count": 32,
   "id": "b41ecc68-0989-4b71-ad6e-1b0b6d9888ca",
   "metadata": {},
   "outputs": [
    {
     "name": "stderr",
     "output_type": "stream",
     "text": [
      "4it [00:11,  2.80s/it]\n"
     ]
    }
   ],
   "source": [
    "event_counts = []\n",
    "for n, version_date in tqdm(enumerate(version_dates)):\n",
    "    # maybe it would be faster to just do all of this in SQL ...\n",
    "    rows = list(\n",
    "        db.cursor.execute(\n",
    "            \"\"\"\n",
    "        select event_name, count(*) as count\n",
    "        from taxonomy\n",
    "        where version_date = version_date\n",
    "        group by event_name\n",
    "    \"\"\"\n",
    "        )\n",
    "    )\n",
    "    for row in rows:\n",
    "        event_counts.append({\"version_date\": version_date, **dict(row)})\n",
    "\n",
    "    if n > 3:\n",
    "        break\n",
    "event_counts = pl.DataFrame(event_counts)"
   ]
  },
  {
   "cell_type": "code",
   "execution_count": 33,
   "id": "4ec17640-eaf9-4a04-904c-a71ee482a20b",
   "metadata": {},
   "outputs": [
    {
     "name": "stderr",
     "output_type": "stream",
     "text": [
      "/Users/audy/Code/science-vessel/.venv/lib/python3.12/site-packages/altair/utils/core.py:384: FutureWarning: the convert_dtype parameter is deprecated and will be removed in a future version.  Do ``ser.astype(object).apply()`` instead if you want ``convert_dtype=False``.\n",
      "  col = df[col_name].apply(to_list_if_array, convert_dtype=False)\n",
      "/Users/audy/Code/science-vessel/.venv/lib/python3.12/site-packages/altair/utils/core.py:384: FutureWarning: the convert_dtype parameter is deprecated and will be removed in a future version.  Do ``ser.astype(object).apply()`` instead if you want ``convert_dtype=False``.\n",
      "  col = df[col_name].apply(to_list_if_array, convert_dtype=False)\n"
     ]
    },
    {
     "data": {
      "text/html": [
       "\n",
       "<div id=\"altair-viz-ae11df3a4e3148ee9cd95e7857af771e\"></div>\n",
       "<script type=\"text/javascript\">\n",
       "  var VEGA_DEBUG = (typeof VEGA_DEBUG == \"undefined\") ? {} : VEGA_DEBUG;\n",
       "  (function(spec, embedOpt){\n",
       "    let outputDiv = document.currentScript.previousElementSibling;\n",
       "    if (outputDiv.id !== \"altair-viz-ae11df3a4e3148ee9cd95e7857af771e\") {\n",
       "      outputDiv = document.getElementById(\"altair-viz-ae11df3a4e3148ee9cd95e7857af771e\");\n",
       "    }\n",
       "    const paths = {\n",
       "      \"vega\": \"https://cdn.jsdelivr.net/npm//vega@5?noext\",\n",
       "      \"vega-lib\": \"https://cdn.jsdelivr.net/npm//vega-lib?noext\",\n",
       "      \"vega-lite\": \"https://cdn.jsdelivr.net/npm//vega-lite@4.17.0?noext\",\n",
       "      \"vega-embed\": \"https://cdn.jsdelivr.net/npm//vega-embed@6?noext\",\n",
       "    };\n",
       "\n",
       "    function maybeLoadScript(lib, version) {\n",
       "      var key = `${lib.replace(\"-\", \"\")}_version`;\n",
       "      return (VEGA_DEBUG[key] == version) ?\n",
       "        Promise.resolve(paths[lib]) :\n",
       "        new Promise(function(resolve, reject) {\n",
       "          var s = document.createElement('script');\n",
       "          document.getElementsByTagName(\"head\")[0].appendChild(s);\n",
       "          s.async = true;\n",
       "          s.onload = () => {\n",
       "            VEGA_DEBUG[key] = version;\n",
       "            return resolve(paths[lib]);\n",
       "          };\n",
       "          s.onerror = () => reject(`Error loading script: ${paths[lib]}`);\n",
       "          s.src = paths[lib];\n",
       "        });\n",
       "    }\n",
       "\n",
       "    function showError(err) {\n",
       "      outputDiv.innerHTML = `<div class=\"error\" style=\"color:red;\">${err}</div>`;\n",
       "      throw err;\n",
       "    }\n",
       "\n",
       "    function displayChart(vegaEmbed) {\n",
       "      vegaEmbed(outputDiv, spec, embedOpt)\n",
       "        .catch(err => showError(`Javascript Error: ${err.message}<br>This usually means there's a typo in your chart specification. See the javascript console for the full traceback.`));\n",
       "    }\n",
       "\n",
       "    if(typeof define === \"function\" && define.amd) {\n",
       "      requirejs.config({paths});\n",
       "      require([\"vega-embed\"], displayChart, err => showError(`Error loading script: ${err.message}`));\n",
       "    } else {\n",
       "      maybeLoadScript(\"vega\", \"5\")\n",
       "        .then(() => maybeLoadScript(\"vega-lite\", \"4.17.0\"))\n",
       "        .then(() => maybeLoadScript(\"vega-embed\", \"6\"))\n",
       "        .catch(showError)\n",
       "        .then(() => displayChart(vegaEmbed));\n",
       "    }\n",
       "  })({\"config\": {\"view\": {\"continuousWidth\": 400, \"continuousHeight\": 300}}, \"data\": {\"name\": \"data-dc1c6fb0cc45d521471d1e652a79ffec\"}, \"mark\": \"bar\", \"encoding\": {\"color\": {\"field\": \"event_name\", \"type\": \"nominal\"}, \"x\": {\"field\": \"version_date\", \"type\": \"nominal\"}, \"y\": {\"field\": \"count\", \"type\": \"quantitative\"}}, \"$schema\": \"https://vega.github.io/schema/vega-lite/v4.17.0.json\", \"datasets\": {\"data-dc1c6fb0cc45d521471d1e652a79ffec\": [{\"version_date\": \"2014-08-01 00:00:00\", \"event_name\": \"alter\", \"count\": 1283661}, {\"version_date\": \"2014-08-01 00:00:00\", \"event_name\": \"create\", \"count\": 2673315}, {\"version_date\": \"2014-08-01 00:00:00\", \"event_name\": \"delete\", \"count\": 43215}, {\"version_date\": \"2015-09-01 00:00:00\", \"event_name\": \"alter\", \"count\": 1283661}, {\"version_date\": \"2015-09-01 00:00:00\", \"event_name\": \"create\", \"count\": 2673315}, {\"version_date\": \"2015-09-01 00:00:00\", \"event_name\": \"delete\", \"count\": 43215}, {\"version_date\": \"2015-11-01 00:00:00\", \"event_name\": \"alter\", \"count\": 1283661}, {\"version_date\": \"2015-11-01 00:00:00\", \"event_name\": \"create\", \"count\": 2673315}, {\"version_date\": \"2015-11-01 00:00:00\", \"event_name\": \"delete\", \"count\": 43215}, {\"version_date\": \"2016-05-01 00:00:00\", \"event_name\": \"alter\", \"count\": 1283661}, {\"version_date\": \"2016-05-01 00:00:00\", \"event_name\": \"create\", \"count\": 2673315}, {\"version_date\": \"2016-05-01 00:00:00\", \"event_name\": \"delete\", \"count\": 43215}, {\"version_date\": \"2021-03-01 00:00:00\", \"event_name\": \"alter\", \"count\": 1283661}, {\"version_date\": \"2021-03-01 00:00:00\", \"event_name\": \"create\", \"count\": 2673315}, {\"version_date\": \"2021-03-01 00:00:00\", \"event_name\": \"delete\", \"count\": 43215}]}}, {\"mode\": \"vega-lite\"});\n",
       "</script>"
      ],
      "text/plain": [
       "alt.Chart(...)"
      ]
     },
     "execution_count": 33,
     "metadata": {},
     "output_type": "execute_result"
    }
   ],
   "source": [
    "alt.Chart(event_counts.to_pandas()).mark_bar().encode(\n",
    "    x=\"version_date\", y=\"count\", color=\"event_name\"\n",
    ")"
   ]
  },
  {
   "cell_type": "code",
   "execution_count": null,
   "id": "e6f66f9f-77a2-48df-9b4e-d0152c4fc723",
   "metadata": {},
   "outputs": [],
   "source": []
  }
 ],
 "metadata": {
  "kernelspec": {
   "display_name": "Python 3 (ipykernel)",
   "language": "python",
   "name": "python3"
  },
  "language_info": {
   "codemirror_mode": {
    "name": "ipython",
    "version": 3
   },
   "file_extension": ".py",
   "mimetype": "text/x-python",
   "name": "python",
   "nbconvert_exporter": "python",
   "pygments_lexer": "ipython3",
   "version": "3.12.5"
  }
 },
 "nbformat": 4,
 "nbformat_minor": 5
}
